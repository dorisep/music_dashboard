{
 "cells": [
  {
   "cell_type": "code",
   "execution_count": 11,
   "metadata": {},
   "outputs": [],
   "source": [
    "import pandas as pd\n",
    "import glob\n",
    "from sqlalchemy import create_engine\n",
    "\n",
    "#create variable to read in all csv files\n",
    "files = \"*.csv\"\n",
    "#create engine to db\n",
    "engine = create_engine('sqlite:///music_dashboard.sqlite', echo=True)\n",
    "#create dataframe\n",
    "df = pd.concat(map(pd.read_csv, glob.iglob(files, recursive=True)))\n"
   ]
  },
  {
   "cell_type": "code",
   "execution_count": 12,
   "metadata": {},
   "outputs": [],
   "source": [
    "#create unique id for all albums and add column to df\n",
    "dt = df['date']\n",
    "dt_slice = dt.str.slice(start=-2)\n",
    "\n",
    "al = df['album']\n",
    "al_slice = al.str.slice(stop = 3).str.replace(\" \", \"_\", regex=True)\n",
    "\n",
    "ar = df['artist']\n",
    "ar_slice = ar.str.slice(stop = 3).str.replace(\" \", \"_\", regex=True)\n",
    "\n",
    "df['album_id'] = ar_slice+al_slice+dt_slice"
   ]
  },
  {
   "cell_type": "code",
   "execution_count": 14,
   "metadata": {},
   "outputs": [
    {
     "name": "stdout",
     "output_type": "stream",
     "text": [
      "2021-09-07 13:52:15,414 INFO sqlalchemy.engine.Engine PRAGMA main.table_info(\"albums\")\n",
      "2021-09-07 13:52:15,415 INFO sqlalchemy.engine.Engine [raw sql] ()\n",
      "2021-09-07 13:52:15,416 INFO sqlalchemy.engine.Engine PRAGMA temp.table_info(\"albums\")\n",
      "2021-09-07 13:52:15,417 INFO sqlalchemy.engine.Engine [raw sql] ()\n",
      "2021-09-07 13:52:15,419 INFO sqlalchemy.engine.Engine BEGIN (implicit)\n",
      "2021-09-07 13:52:15,420 INFO sqlalchemy.engine.Engine \n",
      "CREATE TABLE albums (\n",
      "\t\"index\" BIGINT, \n",
      "\tartist TEXT, \n",
      "\talbum TEXT, \n",
      "\tdate TEXT, \n",
      "\tweek_num BIGINT, \n",
      "\tmeta_score BIGINT, \n",
      "\tuser_score BIGINT, \n",
      "\talbum_id TEXT\n",
      ")\n",
      "\n",
      "\n",
      "2021-09-07 13:52:15,420 INFO sqlalchemy.engine.Engine [no key 0.00051s] ()\n",
      "2021-09-07 13:52:15,423 INFO sqlalchemy.engine.Engine CREATE INDEX ix_albums_index ON albums (\"index\")\n",
      "2021-09-07 13:52:15,424 INFO sqlalchemy.engine.Engine [no key 0.00136s] ()\n",
      "2021-09-07 13:52:15,427 INFO sqlalchemy.engine.Engine COMMIT\n",
      "2021-09-07 13:52:15,436 INFO sqlalchemy.engine.Engine BEGIN (implicit)\n",
      "2021-09-07 13:52:15,502 INFO sqlalchemy.engine.Engine INSERT INTO albums (\"index\", artist, album, date, week_num, meta_score, user_score, album_id) VALUES (?, ?, ?, ?, ?, ?, ?, ?)\n",
      "2021-09-07 13:52:15,502 INFO sqlalchemy.engine.Engine [generated in 0.05365s] ((0, 'The Streets', 'Original Pirate Material', 'October 22, 2002', 43, 90, 87, 'TheOri02'), (1, 'Tom Waits', 'Alice', 'May 7, 2002', 19, 90, 85, 'TomAli02'), (2, 'Queens of the Stone Age', 'Songs For The Deaf', 'August 27, 2002', 35, 89, 89, 'QueSon02'), (3, 'Spoon', 'Kill The Moonlight', 'August 20, 2002', 34, 88, 88, 'SpoKil02'), (4, 'Wilco', 'Yankee Hotel Foxtrot', 'April 23, 2002', 17, 87, 89, 'WilYan02'), (5, 'The Roots', 'Phrenology', 'November 26, 2002', 48, 87, 86, 'ThePhr02'), (6, 'Iron & Wine', 'The Creek Drank The Cradle', 'September 24, 2002', 39, 87, 87, 'IroThe02'), (7, 'Super Furry Animals', 'Rings Around The World', 'March 19, 2002', 12, 86, 87, 'SupRin02')  ... displaying 10 of 9319 total bound parameter sets ...  (497, 'Josh Rouse', 'Love in the Modern Age', 'April 13, 2018', 15, 68, 0, 'JosLov18'), (498, 'Dean Wareham', 'Dean Wareham vs. Cheval Sombre', 'October 26, 2018', 43, 68, 0, 'DeaDea18'))\n",
      "2021-09-07 13:52:15,531 INFO sqlalchemy.engine.Engine COMMIT\n"
     ]
    }
   ],
   "source": [
    "#create database and albums table\n",
    "df.to_sql('albums', engine)"
   ]
  },
  {
   "cell_type": "code",
   "execution_count": null,
   "metadata": {},
   "outputs": [],
   "source": []
  },
  {
   "cell_type": "code",
   "execution_count": null,
   "metadata": {},
   "outputs": [],
   "source": []
  },
  {
   "cell_type": "code",
   "execution_count": null,
   "metadata": {},
   "outputs": [],
   "source": [
    "\n"
   ]
  }
 ],
 "metadata": {
  "kernelspec": {
   "display_name": "Python 3",
   "language": "python",
   "name": "python3"
  },
  "language_info": {
   "codemirror_mode": {
    "name": "ipython",
    "version": 3
   },
   "file_extension": ".py",
   "mimetype": "text/x-python",
   "name": "python",
   "nbconvert_exporter": "python",
   "pygments_lexer": "ipython3",
   "version": "3.8.8"
  }
 },
 "nbformat": 4,
 "nbformat_minor": 4
}
